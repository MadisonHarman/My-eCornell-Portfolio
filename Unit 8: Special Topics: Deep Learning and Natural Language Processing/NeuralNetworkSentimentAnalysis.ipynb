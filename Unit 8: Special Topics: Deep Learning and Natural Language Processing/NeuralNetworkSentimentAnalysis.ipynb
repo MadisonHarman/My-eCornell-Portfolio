{
 "cells": [
  {
   "cell_type": "markdown",
   "metadata": {},
   "source": [
    "# Assignment 8: Implement a Neural Network for Sentiment Analysis"
   ]
  },
  {
   "cell_type": "code",
   "execution_count": 1,
   "metadata": {},
   "outputs": [],
   "source": [
    "import pandas as pd\n",
    "import numpy as np\n",
    "import os \n",
    "os.environ[\"TF_CPP_MIN_LOG_LEVEL\"] = \"2\" # Suppresses info and warning messages.\n",
    "import matplotlib.pyplot as plt\n",
    "import seaborn as sns\n",
    "from sklearn.feature_extraction.text import TfidfVectorizer\n",
    "from sklearn.model_selection import train_test_split\n",
    "import tensorflow.keras as keras\n",
    "import time"
   ]
  },
  {
   "cell_type": "markdown",
   "metadata": {},
   "source": [
    "In this assignment, you will implement a feedforward neural network that performs sentiment classification.\n",
    "You will complete the following tasks:\n",
    "    \n",
    "1. Build your DataFrame and define your ML problem:\n",
    "    * Load the book review data set\n",
    "    * Define the label - what are you predicting?\n",
    "    * Identify the features\n",
    "2. Create labeled examples from the data set\n",
    "3. Split the data into training and test data sets\n",
    "4. Transform the training and test text data using a TF-IDF vectorizer. \n",
    "5. Construct a neural network\n",
    "6. Train the neural network\n",
    "7. Compare the neural network model's performance on the training and validation data.\n",
    "8. Improve the model's generalization performance.\n",
    "9. Evaluate the model's performance on the test data.\n",
    "10. Experiment with ways to improve the model.\n",
    "\n",
    "For this assignment, use the demo <i>Transforming Text into Features for Sentiment Analysis</i> that is contained in this unit as a reference.\n",
    "\n",
    "**<font color='red'>Note: some of the code cells in this notebook may take a while to run</font>**"
   ]
  },
  {
   "cell_type": "markdown",
   "metadata": {},
   "source": [
    "## Part 1. Build Your DataFrame and Define Your ML Problem\n",
    "\n",
    "\n",
    "#### Load a Data Set and Save it as a Pandas DataFrame\n",
    "\n",
    "We will work with the book review data set that contains book reviews taken from Amazon.com reviews.\n",
    "\n",
    "<b>Task</b>: In the code cell below, use the same method you have been using to load the data using `pd.read_csv()` and save it to DataFrame `df`.\n",
    "\n",
    "You will be working with the file named \"bookReviews.csv\" that is located in a folder named \"data_NLP\"."
   ]
  },
  {
   "cell_type": "code",
   "execution_count": 2,
   "metadata": {},
   "outputs": [],
   "source": [
    "# Loads the data using pd.read_csv and saves it to DataFrame df using the file \"bookReviews.csv\" and folder \"data_NLP.\"\n",
    "filename = os.path.join(os.getcwd(), \"data_NLP\", \"bookReviews.csv\")\n",
    "df = pd.read_csv(filename, header = 0)"
   ]
  },
  {
   "cell_type": "markdown",
   "metadata": {},
   "source": [
    "#### Inspect the Data\n",
    "\n",
    "<b>Task</b>: In the code cell below, inspect the data in DataFrame `df` by printing the number of rows and columns, the column names, and the first ten rows. You may perform any other techniques you'd like to inspect the data."
   ]
  },
  {
   "cell_type": "code",
   "execution_count": 3,
   "metadata": {},
   "outputs": [
    {
     "name": "stdout",
     "output_type": "stream",
     "text": [
      "Number of rows:\n",
      "1973\n",
      "Number of columns:\n",
      "2\n"
     ]
    }
   ],
   "source": [
    "# Prints the number of rows and columns.\n",
    "print(\"Number of rows:\")\n",
    "print(df.shape[0])\n",
    "print(\"Number of columns:\")\n",
    "print(df.shape[1])"
   ]
  },
  {
   "cell_type": "code",
   "execution_count": 4,
   "metadata": {},
   "outputs": [
    {
     "name": "stdout",
     "output_type": "stream",
     "text": [
      "Column names:\n",
      "['Review', 'Positive Review']\n"
     ]
    }
   ],
   "source": [
    "# Prints the column names.\n",
    "print(\"Column names:\")\n",
    "print(list(df.columns))"
   ]
  },
  {
   "cell_type": "code",
   "execution_count": 5,
   "metadata": {},
   "outputs": [
    {
     "name": "stdout",
     "output_type": "stream",
     "text": [
      "First ten rows:\n",
      "                                              Review  Positive Review\n",
      "0  This was perhaps the best of Johannes Steinhof...             True\n",
      "1  This very fascinating book is a story written ...             True\n",
      "2  The four tales in this collection are beautifu...             True\n",
      "3  The book contained more profanity than I expec...            False\n",
      "4  We have now entered a second time of deep conc...             True\n",
      "5  I don't know why it won the National Book Awar...            False\n",
      "6  The daughter of a prominent Boston doctor is d...            False\n",
      "7  I was very disapointed in the book.Basicly the...            False\n",
      "8  I think in retrospect I wasted my time on this...            False\n",
      "9  I have a hard time understanding what it is th...            False\n"
     ]
    }
   ],
   "source": [
    "# Prints the first ten rows.\n",
    "print(\"First ten rows:\")\n",
    "print(df.head(10))"
   ]
  },
  {
   "cell_type": "markdown",
   "metadata": {},
   "source": [
    "#### Define the Label\n",
    "\n",
    "This is a binary classification problem in which we will predict whether a book review is a positive or negative one. The label is the `Positive Review` column.\n",
    "\n",
    "#### Identify Features\n",
    "\n",
    "We only have one feature. The feature is the `Review` column.\n"
   ]
  },
  {
   "cell_type": "markdown",
   "metadata": {},
   "source": [
    "## Part 2. Create Labeled Examples from the Data Set \n",
    "\n",
    "<b>Task</b>: In the code cell below, create labeled examples from DataFrame `df`. Assign the label to the variable `y`. Assign the feature to the variable `X`. "
   ]
  },
  {
   "cell_type": "code",
   "execution_count": 6,
   "metadata": {},
   "outputs": [],
   "source": [
    "# Assuming the column names are \"Review\" for features and \"Positive Review\" for labels...\n",
    "X = df['Review'] \n",
    "y = df['Positive Review']"
   ]
  },
  {
   "cell_type": "markdown",
   "metadata": {},
   "source": [
    "## Part 3. Create Training and Test Data Sets\n",
    "\n",
    "<b>Task</b>: In the code cell below, create training and test sets out of the labeled examples. Create a test set that is 25 percent of the size of the data set. Save the results to variables `X_train, X_test, y_train, y_test`.\n"
   ]
  },
  {
   "cell_type": "code",
   "execution_count": 7,
   "metadata": {},
   "outputs": [],
   "source": [
    "# Splits the data into training and test sets.\n",
    "X_train, X_test, y_train, y_test = train_test_split(X, y, test_size = 0.25)"
   ]
  },
  {
   "cell_type": "markdown",
   "metadata": {},
   "source": [
    "## Part 4:  Implement TF-IDF Vectorizer to Transform Text\n"
   ]
  },
  {
   "cell_type": "markdown",
   "metadata": {},
   "source": [
    "In the code cell below, you will transform the features into numerical vectors using `TfidfVectorizer`. \n",
    "\n",
    "\n",
    "<b>Task:</b> Follow the steps to complete the code in the cell below:\n",
    "\n",
    "1. Create a `TfidfVectorizer` object and save it to the variable `tfidf_vectorizer`.\n",
    "\n",
    "2. Call `tfidf_vectorizer.fit()` to fit the vectorizer to the training data `X_train`.\n",
    "\n",
    "3. Call the `tfidf_vectorizer.transform()` method to use the fitted vectorizer to transform the training data `X_train`. Save the result to `X_train_tfidf`.\n",
    "\n",
    "4. Call the `tfidf_vectorizer.transform()` method to use the fitted vectorizer to transform the test data `X_test`. Save the result to `X_test_tfidf`."
   ]
  },
  {
   "cell_type": "code",
   "execution_count": 8,
   "metadata": {},
   "outputs": [],
   "source": [
    "# 1. Creates a TfidfVectorizer object.\n",
    "tfidf_vectorizer = TfidfVectorizer()\n",
    "\n",
    "# 2. Fits the vectorizer to X_train.\n",
    "tfidf_vectorizer.fit(X_train)\n",
    "\n",
    "# 3. Using the fitted vectorizer, transforms the training data.\n",
    "X_train_tfidf = tfidf_vectorizer.transform(X_train)\n",
    "\n",
    "# 4. Using the fitted vectorizer, transforms the test data.\n",
    "X_test_tfidf = tfidf_vectorizer.transform(X_test)"
   ]
  },
  {
   "cell_type": "markdown",
   "metadata": {},
   "source": [
    "When constructing our neural network, we will have to specify the `input_shape`, meaning the dimensionality of the input layer. This corresponds to the dimension of each of the training examples, which in our case is our vocabulary size. Run the code cell below to see the vocabulary size.\n"
   ]
  },
  {
   "cell_type": "code",
   "execution_count": 9,
   "metadata": {},
   "outputs": [
    {
     "name": "stdout",
     "output_type": "stream",
     "text": [
      "18814\n"
     ]
    }
   ],
   "source": [
    "vocabulary_size = len(tfidf_vectorizer.vocabulary_)\n",
    "\n",
    "print(vocabulary_size)"
   ]
  },
  {
   "cell_type": "markdown",
   "metadata": {},
   "source": [
    "## Part 5: Construct a Neural Network\n"
   ]
  },
  {
   "cell_type": "markdown",
   "metadata": {},
   "source": [
    "### Step 1.  Define Model Structure\n",
    "\n",
    "Next we will create our neural network structure. We will create an input layer, three hidden layers and an output layer:\n",
    "\n",
    "* <b>Input layer</b>: The input layer will have the input shape corresponding to the vocabulary size. \n",
    "* <b>Hidden layers</b>: We will create three hidden layers, with 64, 32, and 16 units (number of nodes) respectively. Each layer will utilize the ReLU activation function. \n",
    "* <b>Output layer</b>: The output layer will have 1 unit. The output layer will utilize the sigmoid activation function. Since we are working with binary classification, we will be using the sigmoid activation function to map the output to a probability between 0.0 and 1.0. We can later set a threshold and assume that the prediction is class 1 if the probability is larger than or equal to our threshold, or class 0 if it is lower than our threshold.\n",
    "\n",
    "Use the same approach you have taken in this course to construct a feedforward neural network model using Keras. Do the following:\n",
    "\n",
    "* Use the Keras [`Sequential` class](https://keras.io/api/models/sequential/#sequential-class) to group a stack of layers. This will be our neural network model object. Name your neural network model object ```nn_model```.    \n",
    "* Use the [`InputLayer` class](https://www.tensorflow.org/api_docs/python/tf/keras/layers/InputLayer) to create the input layer. \n",
    "* Use the [`Dense` class](https://keras.io/api/layers/core_layers/dense/) to create each hidden layer and the output layer.\n",
    "* After creating each layer, add it to the neural network model object ```nn_model```.\n"
   ]
  },
  {
   "cell_type": "code",
   "execution_count": 10,
   "metadata": {},
   "outputs": [
    {
     "name": "stdout",
     "output_type": "stream",
     "text": [
      "Model: \"sequential\"\n",
      "_________________________________________________________________\n",
      "Layer (type)                 Output Shape              Param #   \n",
      "=================================================================\n",
      "dense (Dense)                (None, 64)                1204160   \n",
      "_________________________________________________________________\n",
      "dense_1 (Dense)              (None, 32)                2080      \n",
      "_________________________________________________________________\n",
      "dense_2 (Dense)              (None, 16)                528       \n",
      "_________________________________________________________________\n",
      "dense_3 (Dense)              (None, 1)                 17        \n",
      "=================================================================\n",
      "Total params: 1,206,785\n",
      "Trainable params: 1,206,785\n",
      "Non-trainable params: 0\n",
      "_________________________________________________________________\n"
     ]
    },
    {
     "name": "stderr",
     "output_type": "stream",
     "text": [
      "2024-07-22 21:56:38.059823: E tensorflow/stream_executor/cuda/cuda_driver.cc:328] failed call to cuInit: CUDA_ERROR_NO_DEVICE: no CUDA-capable device is detected\n"
     ]
    }
   ],
   "source": [
    "# 1. Creates a model object.\n",
    "nn_model = keras.Sequential()\n",
    "\n",
    "# 2. Creates the input layer and add it to the model object.\n",
    "nn_model.add(keras.layers.InputLayer(input_shape=(vocabulary_size,)))\n",
    "\n",
    "# 3. Creates the first hidden layer and add it to the model object.\n",
    "nn_model.add(keras.layers.Dense(64, activation='relu'))\n",
    "\n",
    "# 4. Creates the second hidden layer and add it to the model object.\n",
    "nn_model.add(keras.layers.Dense(32, activation='relu'))\n",
    "\n",
    "# 5. Creates the third hidden layer and add it to the model object.\n",
    "nn_model.add(keras.layers.Dense(16, activation='relu'))\n",
    "\n",
    "# 6. Creates the output layer and add it to the model object.\n",
    "nn_model.add(keras.layers.Dense(1, activation='sigmoid'))\n",
    "\n",
    "# Prints the summary of neural network model structure.\n",
    "nn_model.summary()"
   ]
  },
  {
   "cell_type": "markdown",
   "metadata": {},
   "source": [
    "### Step 2. Define the Optimization Function\n",
    "\n",
    "<b>Task:</b> In the code cell below, create a stochastic gradient descent optimizer using  `keras.optimizers.SGD()`. Specify a learning rate of 0.1. Assign the result to the variable`sgd_optimizer`."
   ]
  },
  {
   "cell_type": "code",
   "execution_count": 11,
   "metadata": {},
   "outputs": [],
   "source": [
    "# Creates a SGD optimizer with learning rate of 0.1.\n",
    "sgd_optimizer = keras.optimizers.SGD(learning_rate = 0.1)"
   ]
  },
  {
   "cell_type": "markdown",
   "metadata": {},
   "source": [
    "### Step 3. Define the Loss Function\n",
    "\n",
    "<b>Task:</b> In the code cell below, create a binary cross entropy loss function using `keras.losses.BinaryCrossentropy()`. Since our output will be a normalized probability between 0 and 1, specify that `from_logits` is `False`. Assign the result to the variable  `loss_fn`."
   ]
  },
  {
   "cell_type": "code",
   "execution_count": 12,
   "metadata": {},
   "outputs": [],
   "source": [
    "# Creates a binary cross-entropy loss function.\n",
    "loss_fn = keras.losses.BinaryCrossentropy(from_logits = False)"
   ]
  },
  {
   "cell_type": "markdown",
   "metadata": {},
   "source": [
    "### Step 4. Compile the Model\n",
    "\n",
    "<b>Task:</b> In the code cell below, package the network architecture with the optimizer and the loss function using the `nn_model.compile()` method. Specify the optimizer, loss function and the accuracy evaluation metric as arguments."
   ]
  },
  {
   "cell_type": "code",
   "execution_count": 13,
   "metadata": {},
   "outputs": [
    {
     "name": "stdout",
     "output_type": "stream",
     "text": [
      "Model: \"sequential\"\n",
      "_________________________________________________________________\n",
      "Layer (type)                 Output Shape              Param #   \n",
      "=================================================================\n",
      "dense (Dense)                (None, 64)                1204160   \n",
      "_________________________________________________________________\n",
      "dense_1 (Dense)              (None, 32)                2080      \n",
      "_________________________________________________________________\n",
      "dense_2 (Dense)              (None, 16)                528       \n",
      "_________________________________________________________________\n",
      "dense_3 (Dense)              (None, 1)                 17        \n",
      "=================================================================\n",
      "Total params: 1,206,785\n",
      "Trainable params: 1,206,785\n",
      "Non-trainable params: 0\n",
      "_________________________________________________________________\n"
     ]
    }
   ],
   "source": [
    "# Compiles the model.\n",
    "nn_model.compile(optimizer = sgd_optimizer, loss = loss_fn, metrics = ['accuracy'])\n",
    "\n",
    "# Prints a summary of the compiled model.\n",
    "nn_model.summary()"
   ]
  },
  {
   "cell_type": "markdown",
   "metadata": {},
   "source": [
    "## Part 6. Fit the Model on the Training Data"
   ]
  },
  {
   "cell_type": "markdown",
   "metadata": {},
   "source": [
    "We will define our own callback class to output information from our model while it is training. Make sure you execute the code cell below so that it can be used in subsequent cells."
   ]
  },
  {
   "cell_type": "code",
   "execution_count": 14,
   "metadata": {},
   "outputs": [],
   "source": [
    "class ProgBarLoggerNEpochs(keras.callbacks.Callback):\n",
    "    \n",
    "    def __init__(self, num_epochs: int, every_n: int = 50):\n",
    "        self.num_epochs = num_epochs\n",
    "        self.every_n = every_n\n",
    "    \n",
    "    def on_epoch_end(self, epoch, logs = None):\n",
    "        if (epoch + 1) % self.every_n == 0:\n",
    "            s = 'Epoch [{}/ {}]'.format(epoch + 1, self.num_epochs)\n",
    "            logs_s = ['{}: {:.4f}'.format(k.capitalize(), v)\n",
    "                      for k, v in logs.items()]\n",
    "            s_list = [s] + logs_s\n",
    "            print(', '.join(s_list))"
   ]
  },
  {
   "cell_type": "markdown",
   "metadata": {},
   "source": [
    "<b>Task:</b> In the code cell below, fit the neural network model to the vectorized training data. Call the `fit()` method on the model object `nn_model` and specify the following arguments:\n",
    "\n",
    "1. The training data `X_train_tfidf` and `y_train` as arguments. Note that `X_train_tfidf` is currently of type sparce matrix. The Keras `fit()` method requires that input data be of specific types. One type that is allowed is a NumPy array. Convert `X_train_tfidf` to a NumPy array using the `toarray()` method.\n",
    "2. Use the `epochs` parameter and assign it the number of epochs.\n",
    "3. Use the `verbose` parameter and assign it the value of  0.\n",
    "4. We will use a portion of our training data to serve as validation data. Use the  `validation_split` parameter and assign it the value `0.2`\n",
    "5. Use the `callbacks` parameter and assign it a list containing our logger function: \n",
    "    `callbacks=[ProgBarLoggerNEpochs(num_epochs, every_n=5)]`  \n",
    "\n",
    "\n",
    "Save the results to the variable `history`.\n",
    "  \n",
    "<b>Note</b>: This may take a while to run."
   ]
  },
  {
   "cell_type": "code",
   "execution_count": 15,
   "metadata": {},
   "outputs": [
    {
     "name": "stdout",
     "output_type": "stream",
     "text": [
      "Epoch [5/ 55], Loss: 0.6897, Accuracy: 0.5714, Val_loss: 0.6900, Val_accuracy: 0.5068\n",
      "Epoch [10/ 55], Loss: 0.6599, Accuracy: 0.7270, Val_loss: 0.6661, Val_accuracy: 0.7297\n",
      "Epoch [15/ 55], Loss: 0.5260, Accuracy: 0.7337, Val_loss: 0.5532, Val_accuracy: 0.6892\n",
      "Epoch [20/ 55], Loss: 0.4030, Accuracy: 0.8199, Val_loss: 0.4639, Val_accuracy: 0.7635\n",
      "Epoch [25/ 55], Loss: 0.3673, Accuracy: 0.8352, Val_loss: 1.1986, Val_accuracy: 0.5304\n",
      "Epoch [30/ 55], Loss: 0.0395, Accuracy: 0.9975, Val_loss: 0.4812, Val_accuracy: 0.7973\n",
      "Epoch [35/ 55], Loss: 0.0078, Accuracy: 1.0000, Val_loss: 0.5448, Val_accuracy: 0.7804\n",
      "Epoch [40/ 55], Loss: 0.0036, Accuracy: 1.0000, Val_loss: 0.5474, Val_accuracy: 0.7804\n",
      "Epoch [45/ 55], Loss: 0.0022, Accuracy: 1.0000, Val_loss: 0.5669, Val_accuracy: 0.7838\n",
      "Epoch [50/ 55], Loss: 0.0016, Accuracy: 1.0000, Val_loss: 0.5921, Val_accuracy: 0.7804\n",
      "Epoch [55/ 55], Loss: 0.0012, Accuracy: 1.0000, Val_loss: 0.6139, Val_accuracy: 0.7804\n",
      "Elapsed time: 5.55s\n"
     ]
    }
   ],
   "source": [
    "t0 = time.time() # start time\n",
    "\n",
    "num_epochs = 55 # epochs\n",
    "\n",
    "history = nn_model.fit(X_train_tfidf.toarray(), y_train, epochs = num_epochs, verbose = 0, validation_split = 0.2, callbacks = [ProgBarLoggerNEpochs(num_epochs, every_n = 5)])\n",
    "\n",
    "t1 = time.time() # stop time\n",
    "\n",
    "print('Elapsed time: %.2fs' % (t1-t0))"
   ]
  },
  {
   "cell_type": "code",
   "execution_count": 16,
   "metadata": {},
   "outputs": [
    {
     "data": {
      "text/plain": [
       "dict_keys(['loss', 'accuracy', 'val_loss', 'val_accuracy'])"
      ]
     },
     "execution_count": 16,
     "metadata": {},
     "output_type": "execute_result"
    }
   ],
   "source": [
    "history.history.keys()"
   ]
  },
  {
   "cell_type": "markdown",
   "metadata": {},
   "source": [
    "### Visualize the Model's Performance Over Time\n",
    "\n",
    "The code below outputs both the training loss and accuracy and the validation loss and accuracy. Let us visualize the model's performance over time:"
   ]
  },
  {
   "cell_type": "code",
   "execution_count": 17,
   "metadata": {},
   "outputs": [
    {
     "data": {
      "image/png": "[encoded data removed]",
      "text/plain": [
       "<Figure size 640x480 with 1 Axes>"
      ]
     },
     "metadata": {},
     "output_type": "display_data"
    },
    {
     "data": {
      "image/png": "[encoded data removed]",
      "text/plain": [
       "<Figure size 640x480 with 1 Axes>"
      ]
     },
     "metadata": {},
     "output_type": "display_data"
    }
   ],
   "source": [
    "# Plots the training and validation loss.\n",
    "plt.plot(range(1, num_epochs + 1), history.history['loss'], label = 'Training Loss')\n",
    "plt.plot(range(1, num_epochs + 1), history.history['val_loss'], label = 'Validation Loss')\n",
    "\n",
    "plt.xlabel('Epoch')\n",
    "plt.ylabel('Loss')\n",
    "plt.legend()\n",
    "plt.show()\n",
    "\n",
    "\n",
    "# Plots the training and validation accuracy.\n",
    "plt.plot(range(1, num_epochs + 1), history.history['accuracy'], label = 'Training Accuracy')\n",
    "plt.plot(range(1, num_epochs + 1), history.history['val_accuracy'], label = 'Validation Accuracy')\n",
    "\n",
    "plt.xlabel('Epoch')\n",
    "plt.ylabel('Accuracy')\n",
    "plt.legend()\n",
    "plt.show()"
   ]
  },
  {
   "cell_type": "markdown",
   "metadata": {},
   "source": [
    "## Part 7. Evaluate the Model's Performance"
   ]
  },
  {
   "cell_type": "markdown",
   "metadata": {},
   "source": [
    "### Improve Model's Performance and Prevent Overfitting \n",
    "\n",
    "Neural networks can be prone to overfitting. Notice that the training accuracy is 100% but the validation accuracy is around 80%. This indicates that our model is overfitting; it will not perform as well on new, previously unseen data as it did during training. We want to have an accurate idea of how well our model will generalize to new data. Our goal is to have our training and validation accuracy scores be as close as possible.\n",
    "\n",
    "While there are different techniques that can be used to prevent overfitting, for the purpose of this exercise we will focus on two methods:\n",
    "\n",
    "1. Changing the number of epochs. Too many epochs can lead to overfitting of the training dataset, whereas too few epochs may result in underfitting.\n",
    "\n",
    "2. Adding dropout regularization. During training, the nodes of a particular layer may always become influenced only by the output of a particular node in the previous layer, causing overfitting. Dropout regularization is a technique that randomly drops a number of nodes in a neural network during training as a way of adding randomization and preventing nodes from becoming dependent on one another. Adding dropout regularization can reduce overfitting and also improve the performance of the model. \n",
    "\n",
    "<b>Task:</b> \n",
    "\n",
    "1. Tweak the variable `num_epochs` above and restart and rerun all of the cells above. Evaluate the performance of the model on the training data and the validation data.\n",
    "\n",
    "2. Add Keras `Dropout` layers after one or all hidden layers. Add the following line of code after you add a hidden layer to your model object:  `nn_model.add(keras.layers.Dropout(.25))`. The parameter `.25` is the fraction of the nodes to drop. You can experiment with this value as well. Restart and rerun all of the cells above. Evaluate the performance of the model on the training data and the validation data.\n",
    "\n",
    "\n",
    "<b>Analysis:</b> \n",
    "In the cell below, specify the different approaches you used to reduce overfitting and summarize which configuration led to the best generalization performance.\n",
    "\n",
    "Did changing the number of epochs prevent overfitting? Which value of `num_epochs` yielded the closest training and validation accuracy score? \n",
    "\n",
    "Did adding dropout layers prevent overfitting? How so? Did it also improve the accuracy score when evaluating the validation data? How many dropout layers did you add and which fraction of nodes did you drop? \n",
    "\n",
    "Record your findings in the cell below."
   ]
  },
  {
   "cell_type": "markdown",
   "metadata": {},
   "source": [
    "Based on all of the information below, we can conclude several things:\n",
    "\n",
    "Changing num_epochs - Elapsed time is larger when num_epochs is increased and smaller when num_epochs is decreased.\n",
    "- There is a slight increase in accuracy when the number of epochs is increased, but I do not think it is enough to significantly prevent overfitting. In fact, having so many epochs can contribute to overfitting rather than prevent it.\n",
    "- When the epochs were 60, 70, and 80, the closest training and validation scores were 1.0000 and 0.8345, respectively.\n",
    "\n",
    "Changing dropout layers - Elapsed time is slightly higher for all instances.\n",
    "- Adding dropout layers seemed to significantly prevent overfitting. This is not only illustrated in the above graphs (when the information is manipulated, of course) but the closest training and validation scores were 0.8893 and 0.8243, respectively. This occurred when there were 3 dropout layers with .50 as the fraction of the nodes to drop.\n",
    "_____________________________________________________________________________________________________________________________________\n",
    "\n",
    "No changes - \n",
    "Elapsed time: 4.77s\n",
    "- Training accuracy: 1.0000\n",
    "- Highest validation accuracy: 0.8311\n",
    "- Epoch(s): 55/55\n",
    "\n",
    "Increasing the num_epochs to 555 from 55 - \n",
    "Elapsed time: 45.39s\n",
    "- Training accuracy: 1.0000\n",
    "- Highest validation accuracy: 0.8345\n",
    "- Epoch(s): 60, 70, 80\n",
    "\n",
    "Decreasing the num_epochs to 5 from 55 - \n",
    "Elapsed time: 0.73s\n",
    "- Training accuracy: 1.0000\n",
    "- Highest validation accuracy: 0.8311\n",
    "- Epoch(s): 5/5\n",
    "\n",
    "Adding 3 dropout layers with .25 as the fraction of the nodes to drop -\n",
    "Elapsed time: 5.78s\n",
    "- Training accuracy: 0.9924\n",
    "- Highest validation accuracy: 0.8108\n",
    "- Epoch(s): 55\n",
    "\n",
    "Adding 3 dropout layers with .50 as the fraction of the nodes to drop -\n",
    "Elapsed time: 5.61s\n",
    "- Training accuracy: 0.8893\n",
    "- Highest validation accuracy: 0.8243\n",
    "- Epoch(s): 55 \n",
    "\n",
    "Decreased the dropout layers to 1 with .50 as the fraction of nodes to drop -\n",
    "Elapsed time: 5.42s\n",
    "- Training accuracy: 0.9087\n",
    "- Highest validation accuracy: 0.8209\n",
    "- Epoch(s): 30"
   ]
  },
  {
   "cell_type": "markdown",
   "metadata": {},
   "source": [
    "### Evaluate the Performance on the Test Set"
   ]
  },
  {
   "cell_type": "markdown",
   "metadata": {},
   "source": [
    "Now that you have improved the model, let's evaluate its performance on our test data and compare the results."
   ]
  },
  {
   "cell_type": "markdown",
   "metadata": {},
   "source": [
    "<b>Task:</b> In the code cell below, call the  `evaluate()` method on the model object `nn_model`. Specify `X_test_tfidf` and `y_test` as arguments. You must convert `X_test_tfidf` to a NumPy array using the `toarray()` method. \n",
    "\n",
    "Note: The `evaluate()` method returns a list containing two values. The first value is the loss and the second value is the accuracy score.\n"
   ]
  },
  {
   "cell_type": "code",
   "execution_count": 18,
   "metadata": {},
   "outputs": [
    {
     "name": "stdout",
     "output_type": "stream",
     "text": [
      "16/16 [==============================] - 0s 1ms/step - loss: 0.5132 - accuracy: 0.8198\n",
      "Loss:  0.5132052302360535 Accuracy:  0.8198380470275879\n"
     ]
    }
   ],
   "source": [
    "loss, accuracy = nn_model.evaluate(X_test_tfidf.toarray(), y_test)\n",
    "\n",
    "print('Loss: ', str(loss) , 'Accuracy: ', str(accuracy))"
   ]
  },
  {
   "cell_type": "markdown",
   "metadata": {},
   "source": [
    "### Make Predictions on the Test Set"
   ]
  },
  {
   "cell_type": "markdown",
   "metadata": {},
   "source": [
    "Now that we have our best performing model that can generalize to new, previously unseen data, let us make predictions using our test data.\n",
    "\n",
    "In the cell below, we will make a prediction on our test set and receive probability predictions for every example in the test set (these values will be between 0.0 and 1.0). We will then inspect the results for the first 20 examples &mdash; We will apply a threshold to determine the predicted class for every example; we will use a threshold of 0.5. This means that if the probability is greater than 0.5, we will assume the book review is good. We will then print the actual class labels contained in `y_test` to see if our model is producing accurate predictions.\n",
    "\n",
    "<b>Task: </b> In the code cell below, do the following:\n",
    "\n",
    "1. Call the  `predict()` method on the model object `nn_model`. Specify `X_test_tfidf` as an argument. You must convert `X_test_tfidf` to a NumPy array using the `toarray()` method. Save the results to the array `probability_predictions`.\n",
    "2. Loop through the first 20 items in `probability_predictions`. These correspond to the predicted probabilities for the first 20 examples in our test set. For every item, check if the probability is greater than 0.5. If so, output:\n",
    "* the probability value in `probability_predictions`\n",
    "* the corresponding label in `y_test`. Note: convert the series `y_test` using `y_test.to_numpy()` before indexing into it.\n",
    "\n",
    "Inspect the results. How is our model performing? Is our model properly predicting whether the book reviews are good or bad reviews?"
   ]
  },
  {
   "cell_type": "code",
   "execution_count": 19,
   "metadata": {},
   "outputs": [
    {
     "name": "stdout",
     "output_type": "stream",
     "text": [
      "Example 2:\n",
      "Probability: [0.99786294]\n",
      "Actual Label: True\n",
      "\n",
      "Example 3:\n",
      "Probability: [0.99981076]\n",
      "Actual Label: True\n",
      "\n",
      "Example 4:\n",
      "Probability: [0.595986]\n",
      "Actual Label: True\n",
      "\n",
      "Example 5:\n",
      "Probability: [0.99884707]\n",
      "Actual Label: True\n",
      "\n",
      "Example 6:\n",
      "Probability: [0.99770594]\n",
      "Actual Label: True\n",
      "\n",
      "Example 7:\n",
      "Probability: [0.87995595]\n",
      "Actual Label: True\n",
      "\n",
      "Example 8:\n",
      "Probability: [0.9976115]\n",
      "Actual Label: True\n",
      "\n",
      "Example 9:\n",
      "Probability: [0.99984586]\n",
      "Actual Label: True\n",
      "\n",
      "Example 10:\n",
      "Probability: [0.9998177]\n",
      "Actual Label: True\n",
      "\n",
      "Example 14:\n",
      "Probability: [0.9999377]\n",
      "Actual Label: True\n",
      "\n",
      "Example 15:\n",
      "Probability: [0.9177938]\n",
      "Actual Label: True\n",
      "\n",
      "Example 16:\n",
      "Probability: [0.99964]\n",
      "Actual Label: True\n",
      "\n",
      "Example 17:\n",
      "Probability: [0.9761119]\n",
      "Actual Label: False\n",
      "\n"
     ]
    }
   ],
   "source": [
    "# Makes predictions on the test set.\n",
    "probability_predictions = nn_model.predict(X_test_tfidf.toarray())\n",
    "\n",
    "# Loops through the first 20 items in probability_predictions.\n",
    "for i in range(20):\n",
    "    probability = probability_predictions[i]\n",
    "    predicted_class = 1 if probability > 0.5 else 0 \n",
    "    actual_label = y_test.to_numpy()[i]\n",
    "    \n",
    "    if predicted_class == 1:\n",
    "        print(f\"Example {i+1}:\")\n",
    "        print(f\"Probability: {probability}\")\n",
    "        print(f\"Actual Label: {actual_label}\\n\")"
   ]
  },
  {
   "cell_type": "markdown",
   "metadata": {},
   "source": [
    "Let's check a few of the original book review texts to get a further glimpse into how our model is performing."
   ]
  },
  {
   "cell_type": "code",
   "execution_count": 20,
   "metadata": {},
   "outputs": [
    {
     "name": "stdout",
     "output_type": "stream",
     "text": [
      "Review #1:\n",
      "\n",
      "I love fairy tales!  I was so excited to see the author of Beauty had another retelling.  Spindles End has me very confused.  I am plugging through it and hope when I am done with it a second time I can give it more stars.  I would not recommend it for younger readers\n",
      "\n",
      "\n",
      "Prediction: Is this a good review? False\n",
      "\n",
      "Actual: Is this a good review? False\n",
      "\n"
     ]
    }
   ],
   "source": [
    "print('Review #1:\\n')\n",
    "\n",
    "print(X_test.to_numpy()[11])\n",
    "\n",
    "goodReview = True if probability_predictions[11] >= .5 else False\n",
    "    \n",
    "print('\\nPrediction: Is this a good review? {}\\n'.format(goodReview))\n",
    "\n",
    "print('Actual: Is this a good review? {}\\n'.format(y_test.to_numpy()[11]))"
   ]
  },
  {
   "cell_type": "code",
   "execution_count": 21,
   "metadata": {},
   "outputs": [
    {
     "name": "stdout",
     "output_type": "stream",
     "text": [
      "Review #2:\n",
      "\n",
      "Normally I like the entire \"female power\" thing but frankly the \"this is wrong\" or \"evil\" part of that storyline is really old.  In an era where girls do try out for and get placed on \"boys\" teams, these issues seem outdated.  Likewise rules were recently changed in Indiana (not even slightly a liberal state) that says any pageant receiving state funds cannot discriminate on the basis of sex or gender.  I know, this book is from 1999, but we are living in a conservative backlash politically and this is still happening, changes are happening.  Overall I felt the book had a very negative view of the gender roles and did not do anything to suggest they should be different.  Even the disempowered girl who creates the initial problems with her \"magic\" is empowered through a pageant and her cooking.  How much more gender role enforcement can we have?  Really, with a strong female lead, shouldn't a Buffy universe story do better than this?  In general the feel of the relationships and lingo between the main characters was fine but not particularly outstanding\n",
      "\n",
      "\n",
      "Prediction: Is this a good review? False\n",
      "\n",
      "Actual: Is this a good review? False\n",
      "\n"
     ]
    }
   ],
   "source": [
    "print('Review #2:\\n')\n",
    "\n",
    "print(X_test.to_numpy()[24])\n",
    "\n",
    "goodReview = True if probability_predictions[24] >= .5 else False\n",
    "\n",
    "print('\\nPrediction: Is this a good review? {}\\n'.format(goodReview)) \n",
    "\n",
    "print('Actual: Is this a good review? {}\\n'.format(y_test.to_numpy()[24]))"
   ]
  },
  {
   "cell_type": "code",
   "execution_count": 22,
   "metadata": {},
   "outputs": [
    {
     "name": "stdout",
     "output_type": "stream",
     "text": [
      "Review #3:\n",
      "\n",
      "Do you like romance novels? Do you call your dogs your babies? This is the book for you. The thriller aspect of this book is far overshadowed by the romance portion, and the annoyingly repetitious mentioning of the dog could possibly drive most readers over the edge. This was my first Johansen novel, and it most certainly will be my last. Two stars for actually wrapping up the story without leaving too many loose ends. \n",
      "\n",
      "\n",
      "Prediction: Is this a good review? True\n",
      "\n",
      "Actual: Is this a good review? False\n",
      "\n"
     ]
    }
   ],
   "source": [
    "print('Review #3:\\n')\n",
    "\n",
    "print(X_test.to_numpy()[56])\n",
    "\n",
    "goodReview = True if probability_predictions[56] >= .5 else False\n",
    "    \n",
    "print('\\nPrediction: Is this a good review? {}\\n'.format(goodReview))\n",
    "\n",
    "print('Actual: Is this a good review? {}\\n'.format(y_test.to_numpy()[56]))"
   ]
  },
  {
   "cell_type": "code",
   "execution_count": 23,
   "metadata": {},
   "outputs": [
    {
     "name": "stdout",
     "output_type": "stream",
     "text": [
      "Review #4:\n",
      "\n",
      "I don't know why it won the National Book Award.  This book is very slow, &amp; very boring.  Where is the action?  I forced myself to finish it\n",
      "\n",
      "\n",
      "Prediction: Is this a good review? False\n",
      "\n",
      "Actual: Is this a good review? False\n",
      "\n"
     ]
    }
   ],
   "source": [
    "print('Review #4:\\n')\n",
    "print(X_test.to_numpy()[102])\n",
    "\n",
    "goodReview = True if probability_predictions[102] >= .5 else False\n",
    "    \n",
    "print('\\nPrediction: Is this a good review? {}\\n'.format(goodReview))\n",
    "\n",
    "print('Actual: Is this a good review? {}\\n'.format(y_test.to_numpy()[102]))"
   ]
  },
  {
   "cell_type": "markdown",
   "metadata": {},
   "source": [
    "## Part 8: Analysis\n",
    "\n",
    "Experiment with the vectorizer and neural network implementation above and compare your results every time you train the network. Pay attention to the time it takes to train the network, and the resulting loss and accuracy on both the training and test data. \n",
    "\n",
    "Below are some ideas for things you can try:\n",
    "\n",
    "* Adjust the learning rate.\n",
    "* Add more hidden layers and/or experiment with different values for the `unit` parameter in the hidden layers to change the number of nodes in the hidden layers.\n",
    "* Fit your vectorizer using different document frequency values and different n-gram ranges. When creating a `TfidfVectorizer` object, use the parameter `min_df` to specify the minimum 'document frequency' and use `ngram_range=(1,2)` to change the default n-gram range of `(1,1)`.\n",
    "\n",
    "Record your findings in the cell below.\n"
   ]
  },
  {
   "cell_type": "markdown",
   "metadata": {},
   "source": [
    "Based on all of the information below, we can conclude several things:\n",
    "\n",
    "Learning rate - Elapsed time is smaller when the rate is both increased and decreased.\n",
    "- Increasing/decreasing the learning rate increases the loss for the training/testing data yet decreases the accuracy.\n",
    "\n",
    "Changing the 'unit' parameter - Elapsed time is larger when parameters are increased and smaller when parameters are decreased.\n",
    "- Increasing the 'unit' parameter increases the loss for the training data yet decreases the accuracy.\n",
    "- Increasing the 'unit' parameter increases the loss for the testing data yet decreases the accuracy.\n",
    "- Decreasing the 'unit' parameter decreases the loss for the training data and decreases the accuracy.\n",
    "- Decreasing the 'unit' parameter decreases the loss for the testing data yet increases the accuracy.\n",
    "\n",
    "Changing min_df - Elapsed time is smaller when min_dif is both 100 and 10.\n",
    "- Changing min_df = 100 increases the loss for the training/testing data yet decreases the accuracy.\n",
    "- Changing min_df = 10 increases the loss for the training/testing data yet decreases the accuracy.\n",
    "\n",
    "Changing ngram_range - Elapsed time is larger when ngram_range is (1,2) instead of (1,1).\n",
    "- Changing ngram_range to (1,2) increases the loss for the training data yet decreases the accuracy.\n",
    "- Changing ngram_range to (1,2) decreases the loss for the testing data and decreases the accuracy.\n",
    "_____________________________________________________________________________________________________________________________________\n",
    "\n",
    "No changes - \n",
    "Elapsed time: 5.38s\n",
    "- Training data: 0s 1ms/step - loss: 0.0847 - accuracy: 0.9716\n",
    "- Testing data: 0s 1ms/step - loss: 0.5700 - accuracy: 0.8279\n",
    "\n",
    "Increasing the learning rate to 1 - \n",
    "Elapsed time: 5.08s\n",
    "- Training data: 0s 1ms/step - loss: 0.6925 - accuracy: 0.5179\n",
    "- Testing data: 0s 1ms/step - loss: 0.6960 - accuracy: 0.4595\n",
    "\n",
    "Decreasing the learning rate to 0.01 - \n",
    "Elapsed time: 5.11s\n",
    "- Training data: 0s 1ms/step - loss: 0.6848 - accuracy: 0.6335\n",
    "- Testing data: 0s 1ms/step - loss: 0.6881 - accuracy: 0.5850\n",
    "\n",
    "Increasing the 'unit' parameter for hidden_layer_1 to 128, hidden_layer_2 to 64, and hidden_layer_3 to 32 - \n",
    "Elapsed time: 7.13s\n",
    "- Training data: 0s 1ms/step - loss: 0.1140 - accuracy: 0.9696\n",
    "- Testing data: 0s 1ms/step - loss: 0.6424 - accuracy: 0.8077\n",
    "\n",
    "Decreasing the 'unit' parameter for hidden_layer_1 to 32, hidden_layer_2 to 16, and hidden_layer_3 to 8 - \n",
    "Elapsed time: 4.19s\n",
    "- Training data: 0s 809us/step - loss: 0.0831 - accuracy: 0.9689\n",
    "- Testing data: 0s 802us/step - loss: 0.5435 - accuracy: 0.8320\n",
    "\n",
    "min_df = 100 -\n",
    "Elapsed time: 2.12s\n",
    "- Training data: 0s 470us/step - loss: 0.2103 - accuracy: 0.9337\n",
    "- Testing data: 0s 534us/step - loss: 0.6823 - accuracy: 0.7368\n",
    "\n",
    "min_df = 10 -\n",
    "Elapsed time: 2.71s\n",
    "- Training data: 0s 579us/step - loss: 0.1796 - accuracy: 0.9581\n",
    "- Testing data: 0s 621us/step - loss: 0.7215 - accuracy: 0.8057\n",
    "\n",
    "ngram_range = (1,2) -\n",
    "Elapsed time: 33.08s\n",
    "- Training data: 0s 5ms/step - loss: 0.0902 - accuracy: 0.9601\n",
    "- Testing data: 0s 5ms/step - loss: 0.4609 - accuracy: 0.8239"
   ]
  }
 ],
 "metadata": {
  "kernelspec": {
   "display_name": "Python 3 (ipykernel)",
   "language": "python",
   "name": "python3"
  },
  "language_info": {
   "codemirror_mode": {
    "name": "ipython",
    "version": 3
   },
   "file_extension": ".py",
   "mimetype": "text/x-python",
   "name": "python",
   "nbconvert_exporter": "python",
   "pygments_lexer": "ipython3",
   "version": "3.9.19"
  },
  "toc": {
   "base_numbering": 1,
   "nav_menu": {},
   "number_sections": false,
   "sideBar": true,
   "skip_h1_title": false,
   "title_cell": "Table of Contents",
   "title_sidebar": "Contents",
   "toc_cell": false,
   "toc_position": {},
   "toc_section_display": true,
   "toc_window_display": false
  },
  "varInspector": {
   "cols": {
    "lenName": 16,
    "lenType": 16,
    "lenVar": 40
   },
   "kernels_config": {
    "python": {
     "delete_cmd_postfix": "",
     "delete_cmd_prefix": "del ",
     "library": "var_list.py",
     "varRefreshCmd": "print(var_dic_list())"
    },
    "r": {
     "delete_cmd_postfix": ") ",
     "delete_cmd_prefix": "rm(",
     "library": "var_list.r",
     "varRefreshCmd": "cat(var_dic_list()) "
    }
   },
   "types_to_exclude": [
    "module",
    "function",
    "builtin_function_or_method",
    "instance",
    "_Feature"
   ],
   "window_display": false
  }
 },
 "nbformat": 4,
 "nbformat_minor": 4
}
